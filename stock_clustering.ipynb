{
 "cells": [
  {
   "cell_type": "code",
   "execution_count": 2,
   "metadata": {},
   "outputs": [
    {
     "name": "stdout",
     "output_type": "stream",
     "text": [
      "3.8.5 (default, Sep  3 2020, 21:29:08) [MSC v.1916 64 bit (AMD64)]\n",
      "1.19.2\n",
      "0.23.2\n",
      "1.1.3\n",
      "0.11.0\n"
     ]
    }
   ],
   "source": [
    "import sys\n",
    "import numpy as np\n",
    "import sklearn\n",
    "import matplotlib.pyplot as plt\n",
    "import pandas as pd\n",
    "import seaborn as sns\n",
    "print(sys.version)\n",
    "print(np.__version__)\n",
    "print(sklearn.__version__)\n",
    "print(pd.__version__)\n",
    "print(sns.__version__)"
   ]
  },
  {
   "cell_type": "code",
   "execution_count": 3,
   "metadata": {},
   "outputs": [],
   "source": [
    "import datetime\n",
    "from pandas_datareader import data\n",
    "from sklearn.model_selection import train_test_split"
   ]
  },
  {
   "cell_type": "code",
   "execution_count": 4,
   "metadata": {},
   "outputs": [],
   "source": [
    "companies_dict={\n",
    "    \"Amazon\":\"AMZN\",\n",
    "    \"Apple\":\"AAPL\",\n",
    "     \"Walgreen\":\"WBA\",\n",
    "    \"Northrop Grumman\":\"NOC\",\n",
    "    \"Boeing\":\"BA\",\n",
    "    \"Lockhead Martin\":\"LMT\",\n",
    "    \"Mc Donalds\":\"MCD\",\n",
    "    \"Intel\":\"INTC\",\n",
    "    \"Navistar\":\"NAV\",\n",
    "    \"IBM\":\"IBM\",\n",
    "    \"Texas Instruments\":\"TXN\",\n",
    "    \"MasterCard\":\"MA\",\n",
    "    \"Microsoft\":\"MSFT\",\n",
    "    \"General Electronics\":\"GE\",\n",
    "    \"American Express\":\"AXP\",\n",
    "    \"Pepsi\":\"PEP\",\n",
    "    \"Coca Cola\":\"KO\",\n",
    "    \"Johnson and johnson\":\"JNJ\",\n",
    "    \"Toyota\":\"TMC\",\n",
    "    \"Honda\":\"HMC\",\n",
    "    \"Motsubishi\":\"MSBHY\",\n",
    "    \"SONY\":\"SNY\",\n",
    "    \"Exxon\":\"XOM\",\n",
    "    \"Chevron\":\"CVX\",\n",
    "    \"Valero energy\":\"VLO\",\n",
    "    \"Ford\":\"F\",\n",
    "    \"Bank of America\":\"BAC\"\n",
    "}"
   ]
  },
  {
   "cell_type": "code",
   "execution_count": 5,
   "metadata": {},
   "outputs": [
    {
     "name": "stdout",
     "output_type": "stream",
     "text": [
      "[DatetimeIndex(['2014-12-31', '2015-01-02', '2015-01-05', '2015-01-06',\n",
      "               '2015-01-07', '2015-01-08', '2015-01-09', '2015-01-12',\n",
      "               '2015-01-13', '2015-01-14',\n",
      "               ...\n",
      "               '2017-12-15', '2017-12-18', '2017-12-19', '2017-12-20',\n",
      "               '2017-12-21', '2017-12-22', '2017-12-26', '2017-12-27',\n",
      "               '2017-12-28', '2017-12-29'],\n",
      "              dtype='datetime64[ns]', name='Date', length=756, freq=None), MultiIndex([('Adj Close',  'AMZN'),\n",
      "            ('Adj Close',  'AAPL'),\n",
      "            ('Adj Close',   'WBA'),\n",
      "            ('Adj Close',   'NOC'),\n",
      "            ('Adj Close',    'BA'),\n",
      "            ('Adj Close',   'LMT'),\n",
      "            ('Adj Close',   'MCD'),\n",
      "            ('Adj Close',  'INTC'),\n",
      "            ('Adj Close',   'NAV'),\n",
      "            ('Adj Close',   'IBM'),\n",
      "            ...\n",
      "            (   'Volume',   'JNJ'),\n",
      "            (   'Volume',   'TMC'),\n",
      "            (   'Volume',   'HMC'),\n",
      "            (   'Volume', 'MSBHY'),\n",
      "            (   'Volume',   'SNY'),\n",
      "            (   'Volume',   'XOM'),\n",
      "            (   'Volume',   'CVX'),\n",
      "            (   'Volume',   'VLO'),\n",
      "            (   'Volume',     'F'),\n",
      "            (   'Volume',   'BAC')],\n",
      "           names=['Attributes', 'Symbols'], length=162)]\n"
     ]
    }
   ],
   "source": [
    "data_source=\"yahoo\"\n",
    "start_date=\"2015-01-01\"\n",
    "end_date=\"2017-12-31\"\n",
    "panel_data=data.DataReader(list(companies_dict.values()),data_source,start_date,end_date)\n",
    "print(panel_data.axes)"
   ]
  },
  {
   "cell_type": "code",
   "execution_count": 6,
   "metadata": {},
   "outputs": [
    {
     "name": "stdout",
     "output_type": "stream",
     "text": [
      "Symbols\n",
      "AMZN       310.350006\n",
      "AAPL        27.594999\n",
      "WBA         76.199997\n",
      "NOC        147.389999\n",
      "BA         129.979996\n",
      "LMT        192.570007\n",
      "MCD         93.699997\n",
      "INTC        36.290001\n",
      "NAV         33.480000\n",
      "IBM        160.440002\n",
      "TXN         53.470001\n",
      "MA          86.160004\n",
      "MSFT        46.450001\n",
      "GE          24.298077\n",
      "AXP         93.040001\n",
      "PEP         94.559998\n",
      "KO          42.220001\n",
      "JNJ        104.570000\n",
      "TMC      11500.000000\n",
      "HMC         29.520000\n",
      "MSBHY       36.759998\n",
      "SNY         45.610001\n",
      "XOM         92.449997\n",
      "CVX        112.180000\n",
      "VLO         49.500000\n",
      "F           15.500000\n",
      "BAC         17.889999\n",
      "Name: 2014-12-31 00:00:00, dtype: float64\n"
     ]
    }
   ],
   "source": [
    "stock_close=panel_data[\"Close\"]\n",
    "stock_open=panel_data[\"Open\"]\n",
    "print(stock_close.iloc[0])"
   ]
  },
  {
   "cell_type": "code",
   "execution_count": 7,
   "metadata": {},
   "outputs": [
    {
     "name": "stdout",
     "output_type": "stream",
     "text": [
      "(27, 756)\n"
     ]
    }
   ],
   "source": [
    "stock_close=np.array(stock_close).T\n",
    "stock_open=np.array(stock_open).T\n",
    "print(stock_close.shape)"
   ]
  },
  {
   "cell_type": "code",
   "execution_count": 8,
   "metadata": {},
   "outputs": [],
   "source": [
    "row,col=stock_close.shape\n",
    "movements=np.zeros([row,col])\n",
    "for i in range(row):\n",
    "    movements[i,:]=np.subtract(stock_close[i,:],stock_open[i,:])"
   ]
  },
  {
   "cell_type": "markdown",
   "metadata": {},
   "source": [
    "print(movements.shape)"
   ]
  },
  {
   "cell_type": "code",
   "execution_count": 9,
   "metadata": {},
   "outputs": [
    {
     "name": "stdout",
     "output_type": "stream",
     "text": [
      "(27, 756)\n",
      "[[-1.19998169e+00 -4.05999756e+00 -4.82000732e+00 ...  2.34997559e+00\n",
      "  -2.90002441e+00 -1.28800049e+01]\n",
      " [-6.10000610e-01 -5.14999390e-01 -5.10000229e-01 ...  1.25000000e-01\n",
      "   2.00004578e-02 -3.22502136e-01]\n",
      " [-2.90000916e-01 -1.10000610e-01 -5.80001831e-01 ... -4.70001221e-01\n",
      "   6.00051880e-02 -9.99450684e-03]\n",
      " ...\n",
      " [-6.00013733e-02  7.90000916e-01 -1.56999969e+00 ...  3.19999695e-01\n",
      "  -8.99963379e-02 -7.79998779e-01]\n",
      " [-1.00002289e-02 -2.30000496e-01 -3.59999657e-01 ... -6.99996948e-02\n",
      "   1.00000381e-01 -9.00001526e-02]\n",
      " [-3.00001144e-01 -9.00001526e-02 -4.10001755e-01 ...  6.99996948e-02\n",
      "   6.99996948e-02 -3.29999924e-01]]\n"
     ]
    }
   ],
   "source": [
    "print(movements.shape)\n",
    "print(movements)"
   ]
  },
  {
   "cell_type": "code",
   "execution_count": 10,
   "metadata": {},
   "outputs": [
    {
     "name": "stdout",
     "output_type": "stream",
     "text": [
      "0.3597736430289109\n",
      "-0.32190273323639396\n"
     ]
    }
   ],
   "source": [
    "from sklearn.preprocessing import Normalizer\n",
    "from numpy import *\n",
    "normalizer=Normalizer()\n",
    "z=isnan(movements)\n",
    "movements[z]=0\n",
    "new=normalizer.fit_transform(movements)\n",
    "print(new.max())\n",
    "print(new.min())"
   ]
  },
  {
   "cell_type": "code",
   "execution_count": 11,
   "metadata": {},
   "outputs": [],
   "source": [
    "from sklearn.pipeline import make_pipeline\n",
    "from sklearn.cluster import KMeans\n",
    "kmeans=KMeans(n_clusters=10,max_iter=10000)\n",
    "pipeline=make_pipeline(normalizer,kmeans)"
   ]
  },
  {
   "cell_type": "code",
   "execution_count": 12,
   "metadata": {},
   "outputs": [
    {
     "data": {
      "text/plain": [
       "Pipeline(steps=[('normalizer', Normalizer()),\n",
       "                ('kmeans', KMeans(max_iter=10000, n_clusters=10))])"
      ]
     },
     "execution_count": 12,
     "metadata": {},
     "output_type": "execute_result"
    }
   ],
   "source": [
    "pipeline.fit(movements)"
   ]
  },
  {
   "cell_type": "code",
   "execution_count": 13,
   "metadata": {},
   "outputs": [
    {
     "name": "stdout",
     "output_type": "stream",
     "text": [
      "9.459355514316215\n"
     ]
    }
   ],
   "source": [
    "print(kmeans.inertia_)"
   ]
  },
  {
   "cell_type": "code",
   "execution_count": 25,
   "metadata": {},
   "outputs": [
    {
     "name": "stdout",
     "output_type": "stream",
     "text": [
      "{'Amazon': 'AMZN', 'Apple': 'AAPL', 'Walgreen': 'WBA', 'Northrop Grumman': 'NOC', 'Boeing': 'BA', 'Lockhead Martin': 'LMT', 'Mc Donalds': 'MCD', 'Intel': 'INTC', 'Navistar': 'NAV', 'IBM': 'IBM', 'Texas Instruments': 'TXN', 'MasterCard': 'MA', 'Microsoft': 'MSFT', 'General Electronics': 'GE', 'American Express': 'AXP', 'Pepsi': 'PEP', 'Coca Cola': 'KO', 'Johnson and johnson': 'JNJ', 'Toyota': 'TMC', 'Honda': 'HMC', 'Motsubishi': 'MSBHY', 'SONY': 'SNY', 'Exxon': 'XOM', 'Chevron': 'CVX', 'Valero energy': 'VLO', 'Ford': 'F', 'Bank of America': 'BAC'}\n"
     ]
    }
   ],
   "source": [
    "labels=pipeline.predict(movements)\n",
    "print(companies_dict)\n",
    "companies=sorted(companies_dict.items(),key=lambda x: x[0])\n",
    "df=pd.DataFrame({\"labels\":labels,\"companies\":companies})"
   ]
  },
  {
   "cell_type": "code",
   "execution_count": 26,
   "metadata": {},
   "outputs": [
    {
     "name": "stdout",
     "output_type": "stream",
     "text": [
      "    labels                   companies\n",
      "13       0  (Johnson and johnson, JNJ)\n",
      "19       0             (Navistar, NAV)\n",
      "14       0      (Lockhead Martin, LMT)\n",
      "25       0        (Valero energy, VLO)\n",
      "8        0                   (Ford, F)\n",
      "26       0             (Walgreen, WBA)\n",
      "4        1                (Boeing, BA)\n",
      "3        1      (Bank of America, BAC)\n",
      "5        1              (Chevron, CVX)\n",
      "0        2              (Amazon, AMZN)\n",
      "1        2     (American Express, AXP)\n",
      "11       2                  (IBM, IBM)\n",
      "12       2               (Intel, INTC)\n",
      "21       3                (Pepsi, PEP)\n",
      "17       3           (Microsoft, MSFT)\n",
      "6        3             (Coca Cola, KO)\n",
      "15       3            (MasterCard, MA)\n",
      "16       3           (Mc Donalds, MCD)\n",
      "2        4               (Apple, AAPL)\n",
      "10       5                (Honda, HMC)\n",
      "9        5   (General Electronics, GE)\n",
      "7        5                (Exxon, XOM)\n",
      "18       6         (Motsubishi, MSBHY)\n",
      "22       7                 (SONY, SNY)\n",
      "23       7    (Texas Instruments, TXN)\n",
      "20       8     (Northrop Grumman, NOC)\n",
      "24       9               (Toyota, TMC)\n"
     ]
    }
   ],
   "source": [
    "print(df.sort_values('labels'))"
   ]
  },
  {
   "cell_type": "code",
   "execution_count": 28,
   "metadata": {},
   "outputs": [],
   "source": [
    "from sklearn.decomposition import PCA\n",
    "reduced_data=PCA(n_components=2).fit_transform(new)\n",
    "kmeans=KMeans(n_clusters=10)\n",
    "kmeans.fit(reduced_data)\n",
    "labels=kmeans.predict(reduced_data)"
   ]
  },
  {
   "cell_type": "code",
   "execution_count": 29,
   "metadata": {},
   "outputs": [
    {
     "name": "stdout",
     "output_type": "stream",
     "text": [
      "    labels                   companies\n",
      "24       0               (Toyota, TMC)\n",
      "19       0             (Navistar, NAV)\n",
      "9        0   (General Electronics, GE)\n",
      "14       0      (Lockhead Martin, LMT)\n",
      "0        1              (Amazon, AMZN)\n",
      "11       1                  (IBM, IBM)\n",
      "12       1               (Intel, INTC)\n",
      "3        2      (Bank of America, BAC)\n",
      "5        2              (Chevron, CVX)\n",
      "16       2           (Mc Donalds, MCD)\n",
      "15       2            (MasterCard, MA)\n",
      "23       3    (Texas Instruments, TXN)\n",
      "22       3                 (SONY, SNY)\n",
      "18       4         (Motsubishi, MSBHY)\n",
      "26       5             (Walgreen, WBA)\n",
      "8        5                   (Ford, F)\n",
      "25       5        (Valero energy, VLO)\n",
      "21       6                (Pepsi, PEP)\n",
      "4        6                (Boeing, BA)\n",
      "2        6               (Apple, AAPL)\n",
      "10       7                (Honda, HMC)\n",
      "7        7                (Exxon, XOM)\n",
      "1        7     (American Express, AXP)\n",
      "20       8     (Northrop Grumman, NOC)\n",
      "13       8  (Johnson and johnson, JNJ)\n",
      "17       9           (Microsoft, MSFT)\n",
      "6        9             (Coca Cola, KO)\n"
     ]
    }
   ],
   "source": [
    "df=pd.DataFrame({\"labels\":labels,\"companies\":companies})\n",
    "print(df.sort_values('labels'))"
   ]
  },
  {
   "cell_type": "code",
   "execution_count": null,
   "metadata": {},
   "outputs": [],
   "source": []
  },
  {
   "cell_type": "code",
   "execution_count": null,
   "metadata": {},
   "outputs": [],
   "source": []
  },
  {
   "cell_type": "code",
   "execution_count": null,
   "metadata": {},
   "outputs": [],
   "source": []
  }
 ],
 "metadata": {
  "kernelspec": {
   "display_name": "Python 3",
   "language": "python",
   "name": "python3"
  },
  "language_info": {
   "codemirror_mode": {
    "name": "ipython",
    "version": 3
   },
   "file_extension": ".py",
   "mimetype": "text/x-python",
   "name": "python",
   "nbconvert_exporter": "python",
   "pygments_lexer": "ipython3",
   "version": "3.8.5"
  }
 },
 "nbformat": 4,
 "nbformat_minor": 4
}
